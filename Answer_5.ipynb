{
 "cells": [
  {
   "cell_type": "markdown",
   "id": "afc42721",
   "metadata": {},
   "source": [
    "<font face=\"Calibri (Body)\" color=\"blue\" size=\"5\">Gorilla Data Engineer Assessment</font>\n",
    "<font face=\"Calibri (Body)\" color=\"black\" size=\"3\">Answer 5</font>"
   ]
  },
  {
   "cell_type": "markdown",
   "id": "675e6cf8",
   "metadata": {},
   "source": [
    "5.What are your observations after benchmarking? \n",
    "\n",
    "Are there any steps in the cost calculation that can be improved? \n",
    "\n",
    "How would you go about improving the performance of this calculation?"
   ]
  },
  {
   "cell_type": "code",
   "execution_count": null,
   "id": "f50479c4",
   "metadata": {},
   "outputs": [],
   "source": []
  }
 ],
 "metadata": {
  "kernelspec": {
   "display_name": "Python 3 (ipykernel)",
   "language": "python",
   "name": "python3"
  },
  "language_info": {
   "codemirror_mode": {
    "name": "ipython",
    "version": 3
   },
   "file_extension": ".py",
   "mimetype": "text/x-python",
   "name": "python",
   "nbconvert_exporter": "python",
   "pygments_lexer": "ipython3",
   "version": "3.10.5"
  }
 },
 "nbformat": 4,
 "nbformat_minor": 5
}
