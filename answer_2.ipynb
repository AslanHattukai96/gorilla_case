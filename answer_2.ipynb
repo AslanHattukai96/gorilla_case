{
 "cells": [
  {
   "cell_type": "markdown",
   "id": "fe90d6f3",
   "metadata": {},
   "source": [
    "<font face=\"Calibri (Body)\" color=\"blue\" size=\"5\">Gorilla Data Engineer Assessment</font>\n",
    "<font face=\"Calibri (Body)\" color=\"black\" size=\"3\">Answer 2</font>"
   ]
  },
  {
   "cell_type": "markdown",
   "id": "9c768110",
   "metadata": {},
   "source": [
    "2. Write a function that generates a list of random meters of any size. Examples of valid\n",
    "exit zones can be found in the rate table. You may randomly generate the annual\n",
    "quantity."
   ]
  },
  {
   "cell_type": "code",
   "execution_count": 1,
   "id": "849bd428",
   "metadata": {},
   "outputs": [],
   "source": [
    "import pandas as pd\n",
    "import random"
   ]
  },
  {
   "cell_type": "code",
   "execution_count": 2,
   "id": "03acc877",
   "metadata": {},
   "outputs": [],
   "source": [
    "# Now we import the distic values from the exit_zone column from the df_rate.csv \n",
    "df_rate = pd.read_csv(\"rate_table.csv\")\n",
    "exit_zone_list = df_rate['exit_zone'].unique()"
   ]
  },
  {
   "cell_type": "code",
   "execution_count": 3,
   "id": "3aaebe88",
   "metadata": {
    "scrolled": true
   },
   "outputs": [
    {
     "name": "stdout",
     "output_type": "stream",
     "text": [
      "There are 38 distinct exit zones.\n",
      "['EA1' 'EA2' 'EA3' 'EA4' 'EM1' 'EM2' 'EM3' 'EM4' 'LC' 'LO' 'LS' 'LT' 'LW'\n",
      " 'NE1' 'NE2' 'NE3' 'NO1' 'NO2' 'NT1' 'NT2' 'NT3' 'NW1' 'NW2' 'SC1' 'SC2'\n",
      " 'SC4' 'SE1' 'SE2' 'SO1' 'SO2' 'SW1' 'SW2' 'SW3' 'WA1' 'WA2' 'WM1' 'WM2'\n",
      " 'WM3']\n"
     ]
    }
   ],
   "source": [
    "print(f\"There are {len(exit_zone_list)} distinct exit zones.\")\n",
    "print(exit_zone_list)"
   ]
  },
  {
   "cell_type": "code",
   "execution_count": 8,
   "id": "66939f02",
   "metadata": {},
   "outputs": [],
   "source": [
    "\n",
    "def generate_random_meters(num_meters): # num_meters is the input for the amount of meters to be generated.\n",
    "    # Selects a random number from the given ranges\n",
    "    meter_ids = np.random.randint(10000, 99999999, size=num_meters) \n",
    "    \n",
    "    # Selects a random number from the given ranges\n",
    "    aq_kwhs = np.random.randint(10000, 99999999, size=num_meters) \n",
    "   \n",
    "    # Chooses randomly from the list of valid exit zones\n",
    "    exit_zones = np.random.choice(exit_zone_list, size=num_meters) \n",
    "    \n",
    "    return list(zip(meter_ids, aq_kwhs, exit_zones))"
   ]
  },
  {
   "cell_type": "code",
   "execution_count": 9,
   "id": "ddb5f65c",
   "metadata": {},
   "outputs": [
    {
     "name": "stdout",
     "output_type": "stream",
     "text": [
      "[(65218044, 33575505, 'WM2'), (75496464, 84198797, 'SW1'), (43411554, 63580544, 'SE1'), (3202116, 66544680, 'SO1'), (23095129, 31440005, 'LT')]\n"
     ]
    }
   ],
   "source": [
    "# Now we print a list of 5 diffrent meters.\n",
    "random_meters = generate_random_meters(5)\n",
    "print(random_meters)"
   ]
  }
 ],
 "metadata": {
  "kernelspec": {
   "display_name": "Python 3 (ipykernel)",
   "language": "python",
   "name": "python3"
  },
  "language_info": {
   "codemirror_mode": {
    "name": "ipython",
    "version": 3
   },
   "file_extension": ".py",
   "mimetype": "text/x-python",
   "name": "python",
   "nbconvert_exporter": "python",
   "pygments_lexer": "ipython3",
   "version": "3.10.5"
  }
 },
 "nbformat": 4,
 "nbformat_minor": 5
}
