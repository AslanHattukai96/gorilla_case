{
 "cells": [
  {
   "cell_type": "markdown",
   "id": "6e1dac58",
   "metadata": {},
   "source": [
    "<font face=\"Calibri (Body)\" color=\"blue\" size=\"5\">Gorilla Data Engineer Assessment</font>\n",
    "<font face=\"Calibri (Body)\" color=\"black\" size=\"3\">Answer 3</font>"
   ]
  },
  {
   "cell_type": "markdown",
   "id": "11e9668b",
   "metadata": {},
   "source": [
    "3. Write a function that generates mock consumption data given a list of meters and a\n",
    "start date and duration (number of days in the forecast). The data may be completely\n",
    "random and it doesn't have to match with the meters' annual quantities either."
   ]
  },
  {
   "cell_type": "code",
   "execution_count": 1,
   "id": "611af898",
   "metadata": {},
   "outputs": [],
   "source": [
    "import pandas as pd\n",
    "import numpy as np"
   ]
  },
  {
   "cell_type": "markdown",
   "id": "b2be32ad",
   "metadata": {},
   "source": [
    "we need to import a list of meters we use the function for generating new meters from answer_2"
   ]
  },
  {
   "cell_type": "code",
   "execution_count": 2,
   "id": "dbd997f0",
   "metadata": {},
   "outputs": [],
   "source": [
    "# Now we import the distic values from the exit_zone column from the df_rate.csv \n",
    "df_rate = pd.read_csv(\"rate_table.csv\")\n",
    "exit_zone_list = df_rate['exit_zone'].unique()"
   ]
  },
  {
   "cell_type": "code",
   "execution_count": 3,
   "id": "2bc71e9e",
   "metadata": {},
   "outputs": [],
   "source": [
    "def generate_random_meters(num_meters): # num_meters is the input for the amount of meters to be generated.\n",
    "    # Selects a random number from the given ranges\n",
    "    meter_ids = np.random.randint(10000, 99999999, size=num_meters) \n",
    "    \n",
    "    # Selects a random number from the given ranges\n",
    "    aq_kwhs = np.random.randint(10000, 99999999, size=num_meters) \n",
    "   \n",
    "    # Chooses randomly from the list of valid exit zones\n",
    "    exit_zones = np.random.choice(exit_zone_list, size=num_meters) \n",
    "    \n",
    "    return list(zip(meter_ids, aq_kwhs, exit_zones))"
   ]
  },
  {
   "cell_type": "code",
   "execution_count": 4,
   "id": "a9fe934b",
   "metadata": {},
   "outputs": [],
   "source": [
    "# Now we define a list of 5 diffrent meters.\n",
    "random_meters = generate_random_meters(5)"
   ]
  },
  {
   "cell_type": "code",
   "execution_count": 5,
   "id": "004f1f46",
   "metadata": {},
   "outputs": [],
   "source": [
    "def mock_consumption_data(meters, start_date, duration):\n",
    "    # Create a date range for the forecast period\n",
    "    date_range = pd.date_range(start=start_date, periods=duration, freq='D')\n",
    "    \n",
    "    # Create arrays to store the consumption data\n",
    "    meter_ids = np.repeat([meter[0] for meter in meters], duration)\n",
    "    periods = np.tile(date_range, len(meters))\n",
    "    consumptions = np.random.normal(loc=500, scale=100, size=len(meter_ids))\n",
    "    \n",
    "    # Combine the arrays into a DataFrame\n",
    "    consumption_data = pd.DataFrame({'meter_id': meter_ids, 'period': periods, 'consumption': consumptions})\n",
    "    \n",
    "    return consumption_data"
   ]
  },
  {
   "cell_type": "code",
   "execution_count": 8,
   "id": "425f5ae5",
   "metadata": {},
   "outputs": [
    {
     "name": "stdout",
     "output_type": "stream",
     "text": [
      "   meter_id     period  consumption\n",
      "0  55011363 2022-11-11   418.391225\n",
      "1  55011363 2022-11-12   382.195947\n",
      "2  55011363 2022-11-13   255.188332\n",
      "3  55011363 2022-11-14   422.468526\n",
      "4  55011363 2022-11-15   340.142969\n"
     ]
    }
   ],
   "source": [
    "consumption_forcast = mock_consumption_data(random_meters, '2022-11-11', 10)\n",
    "print(consumption_forcast.head(5))"
   ]
  },
  {
   "cell_type": "code",
   "execution_count": null,
   "id": "03d781fc",
   "metadata": {},
   "outputs": [],
   "source": []
  }
 ],
 "metadata": {
  "kernelspec": {
   "display_name": "Python 3 (ipykernel)",
   "language": "python",
   "name": "python3"
  },
  "language_info": {
   "codemirror_mode": {
    "name": "ipython",
    "version": 3
   },
   "file_extension": ".py",
   "mimetype": "text/x-python",
   "name": "python",
   "nbconvert_exporter": "python",
   "pygments_lexer": "ipython3",
   "version": "3.10.5"
  }
 },
 "nbformat": 4,
 "nbformat_minor": 5
}
