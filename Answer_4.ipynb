{
 "cells": [
  {
   "cell_type": "markdown",
   "id": "bf2948f6",
   "metadata": {},
   "source": [
    "<font face=\"Calibri (Body)\" color=\"blue\" size=\"5\">Gorilla Data Engineer Assessment</font>\n",
    "<font face=\"Calibri (Body)\" color=\"black\" size=\"3\">Answer 4</font>"
   ]
  },
  {
   "cell_type": "markdown",
   "id": "dfa133c7",
   "metadata": {},
   "source": [
    "4.Write a function that takes as an input a meter list and a consumption forecast table\n",
    "and that calculates the transportation cost table (i.e., best take your logic from task 1\n",
    "and wrap it in a function).\n",
    "\n",
    "Benchmark this function using meter lists of different sizes and consumption forecasts for periods of different lengths. \n",
    "\n",
    "How does the function scale for larger sets of data?"
   ]
  },
  {
   "cell_type": "code",
   "execution_count": 2,
   "id": "5affd385",
   "metadata": {},
   "outputs": [],
   "source": [
    "import pandas as pd\n",
    "import numpy as np"
   ]
  },
  {
   "cell_type": "markdown",
   "id": "b95d8d42",
   "metadata": {},
   "source": [
    "First we take in the lists of meters and consumptions from the previous questions"
   ]
  },
  {
   "cell_type": "code",
   "execution_count": 3,
   "id": "918ba828",
   "metadata": {},
   "outputs": [
    {
     "name": "stdout",
     "output_type": "stream",
     "text": [
      "[(80042564, 98422831, 'SE1'), (79480825, 55228912, 'LW'), (15627342, 66003528, 'NT2'), (61247184, 80452091, 'NE1'), (37456753, 15816076, 'NE3'), (19488855, 73919868, 'EM4'), (17730340, 65766291, 'NO1'), (99679127, 57139336, 'EM3'), (8698487, 82197798, 'LT'), (80266281, 58965738, 'EM4'), (60893438, 35015615, 'WM2'), (58135499, 80676626, 'SC4'), (96314567, 25044894, 'NO2'), (17589502, 85409047, 'LW'), (85755797, 66629300, 'SO2'), (35920043, 64732937, 'SW3'), (14693022, 7647585, 'NT2'), (97164907, 67655541, 'EM4'), (4254226, 57948709, 'NO2'), (48159176, 97974850, 'LS')]\n"
     ]
    }
   ],
   "source": [
    "#This code block generates the meter_list see answer 2 for detailed explenation.\n",
    "\n",
    "df_rate = pd.read_csv(\"rate_table.csv\")\n",
    "exit_zone_list = df_rate['exit_zone'].unique()\n",
    "\n",
    "def generate_random_meters(num_meters): # num_meters is the input for the amount of meters to be generated.\n",
    "    # Selects a random number from the given ranges\n",
    "    meter_ids = np.random.randint(10000, 99999999, size=num_meters) \n",
    "    \n",
    "    # Selects a random number from the given ranges\n",
    "    aq_kwhs = np.random.randint(10000, 99999999, size=num_meters) \n",
    "   \n",
    "    # Chooses randomly from the list of valid exit zones\n",
    "    exit_zones = np.random.choice(exit_zone_list, size=num_meters) \n",
    "    \n",
    "    return list(zip(meter_ids, aq_kwhs, exit_zones))\n",
    "\n",
    "# Now we print a list of diffrent meters.\n",
    "meter_list_20 = generate_random_meters(20)\n",
    "print(meter_list_20)\n"
   ]
  },
  {
   "cell_type": "code",
   "execution_count": 4,
   "id": "02d6d026",
   "metadata": {},
   "outputs": [
    {
     "name": "stdout",
     "output_type": "stream",
     "text": [
      "   meter_id     period  consumption\n",
      "0  80042564 2022-11-11   553.655850\n",
      "1  80042564 2022-11-12   402.454676\n",
      "2  80042564 2022-11-13   580.685865\n",
      "3  80042564 2022-11-14   535.658021\n",
      "4  80042564 2022-11-15   490.698169\n"
     ]
    }
   ],
   "source": [
    "#This code block generates the consumption_forecast see answer 2 for detailed explenation.\n",
    "\n",
    "def mock_consumption_data(meters, start_date, duration):\n",
    "    # Create a date range for the forecast period\n",
    "    date_range = pd.date_range(start=start_date, periods=duration, freq='D')\n",
    "    \n",
    "    # Create arrays to store the consumption data\n",
    "    meter_ids = np.repeat([meter[0] for meter in meters], duration)\n",
    "    periods = np.tile(date_range, len(meters))\n",
    "    consumptions = np.random.normal(loc=500, scale=100, size=len(meter_ids))\n",
    "    \n",
    "    # Combine the arrays into a DataFrame\n",
    "    consumption_data = pd.DataFrame({'meter_id': meter_ids, 'period': periods, 'consumption': consumptions})\n",
    "    \n",
    "    return consumption_data\n",
    "\n",
    "# Run the function to generate the consumption forcast list.\n",
    "consumption_forcast_20 = mock_consumption_data(meter_list_20, '2022-11-11', 20)\n",
    "print(consumption_forcast_20.head(5))"
   ]
  },
  {
   "cell_type": "markdown",
   "id": "c0ab076e",
   "metadata": {},
   "source": [
    "We need to defince a calculate_distance_matrix function that allows us to store the distances between the meters in a 2d array."
   ]
  },
  {
   "cell_type": "code",
   "execution_count": 5,
   "id": "28420fdf",
   "metadata": {},
   "outputs": [],
   "source": [
    "def calculate_distance_matrix(meters):\n",
    "    num_meters = len(meters)\n",
    "    distance_matrix = np.zeros((num_meters, num_meters))\n",
    "\n",
    "    for i in range(num_meters):\n",
    "        for j in range(num_meters):\n",
    "            distance = np.linalg.norm(np.array(meters[i][:2]) - np.array(meters[j][:2]))  # Euclidean distance calculation\n",
    "            distance_matrix[i, j] = distance\n",
    "\n",
    "    return distance_matrix"
   ]
  },
  {
   "cell_type": "code",
   "execution_count": 9,
   "id": "49b30e11",
   "metadata": {},
   "outputs": [
    {
     "name": "stdout",
     "output_type": "stream",
     "text": [
      "[[0.00000000e+00 4.31975716e+07 7.21133277e+07 2.60041113e+07\n",
      "  9.29377602e+07 6.53234022e+07 7.03509976e+07 4.57156600e+07\n",
      "  7.31657640e+07 3.94577272e+07 6.62356707e+07 2.81930362e+07\n",
      "  7.51604931e+07 6.37945415e+07 3.23027808e+07 5.55140146e+07\n",
      "  1.11851276e+08 3.52108046e+07 8.59187216e+07 3.18865350e+07]\n",
      " [4.31975716e+07 0.00000000e+00 6.47561552e+07 3.11235349e+07\n",
      "  5.76141846e+07 6.28362022e+07 6.26431062e+07 2.02884480e+07\n",
      "  7.57460242e+07 3.81848264e+06 2.74603046e+07 3.32145915e+07\n",
      "  3.45608132e+07 6.88576533e+07 1.30132287e+07 4.45855158e+07\n",
      "  8.03830958e+07 2.16136037e+07 7.52757497e+07 5.29930270e+07]\n",
      " [7.21133277e+07 6.47561552e+07 0.00000000e+00 4.78532231e+07\n",
      "  5.47293662e+07 8.80793515e+06 2.11633693e+06 8.45179062e+07\n",
      "  1.76142957e+07 6.50209422e+07 5.48568154e+07 4.49693586e+07\n",
      "  9.04877781e+07 1.95044672e+07 7.01312469e+07 2.03324400e+07\n",
      "  5.83634221e+07 8.15542988e+07 1.39365662e+07 4.56123410e+07]\n",
      " [2.60041113e+07 3.11235349e+07 4.78532231e+07 0.00000000e+00\n",
      "  6.88752426e+07 4.22661564e+07 4.59280789e+07 4.49499587e+07\n",
      "  5.25776858e+07 2.86947629e+07 4.54378530e+07 3.11977555e+06\n",
      "  6.55719363e+07 4.39381908e+07 2.81379044e+07 2.98086543e+07\n",
      "  8.64163532e+07 3.81291820e+07 6.12747865e+07 2.18710548e+07]\n",
      " [9.29377602e+07 5.76141846e+07 5.47293662e+07 6.88752426e+07\n",
      "  0.00000000e+00 6.08185498e+07 5.37043327e+07 7.46942812e+07\n",
      "  7.23434232e+07 6.07828020e+07 3.02968728e+07 6.80771730e+07\n",
      "  5.95769532e+07 7.23732635e+07 7.01055018e+07 4.89409927e+07\n",
      "  2.41849477e+07 7.90720797e+07 5.36429545e+07 8.28529179e+07]\n",
      " [6.53234022e+07 6.28362022e+07 8.80793515e+06 4.22661564e+07\n",
      "  6.08185498e+07 0.00000000e+00 8.34105466e+06 8.19271993e+07\n",
      "  1.35998591e+07 6.25901072e+07 5.68144383e+07 3.92328545e+07\n",
      "  9.10546710e+07 1.16451181e+07 6.66667832e+07 1.88250801e+07\n",
      "  6.64455831e+07 7.79282417e+07 2.20719696e+07 3.74249845e+07]\n",
      " [7.03509976e+07 6.26431062e+07 2.11633693e+06 4.59280789e+07\n",
      "  5.37043327e+07 8.34105466e+06 0.00000000e+00 8.24016265e+07\n",
      "  1.87501678e+07 6.29046218e+07 5.29967650e+07 4.30684915e+07\n",
      "  8.85082646e+07 1.96432609e+07 6.80309311e+07 1.82190317e+07\n",
      "  5.81980179e+07 7.94570305e+07 1.55794813e+07 4.43092015e+07]\n",
      " [4.57156600e+07 2.02884480e+07 8.45179062e+07 4.49499587e+07\n",
      "  7.46942812e+07 8.19271993e+07 8.24016265e+07 0.00000000e+00\n",
      "  9.43684448e+07 1.94985726e+07 4.46518611e+07 4.77480581e+07\n",
      "  3.22703187e+07 8.68209830e+07 1.68498823e+07 6.42096844e+07\n",
      "  9.83466901e+07 1.08125792e+07 9.54283334e+07 6.57407374e+07]\n",
      " [7.31657640e+07 7.57460242e+07 1.76142957e+07 5.25776858e+07\n",
      "  7.23434232e+07 1.35998591e+07 1.87501678e+07 9.43684448e+07\n",
      "  0.00000000e+00 7.52441210e+07 7.03595857e+07 4.94604096e+07\n",
      "  1.04608948e+08 9.45316179e+06 7.86142936e+07 3.23424563e+07\n",
      "  7.47908330e+07 8.96536932e+07 2.46529871e+07 4.24977805e+07]\n",
      " [3.94577272e+07 3.81848264e+06 6.50209422e+07 2.86947629e+07\n",
      "  6.07828020e+07 6.25901072e+07 6.29046218e+07 1.94985726e+07\n",
      "  7.52441210e+07 0.00000000e+00 3.08044711e+07 3.10021640e+07\n",
      "  3.75256065e+07 6.80266655e+07 9.42682176e+06 4.47196759e+07\n",
      "  8.32670711e+07 1.90020061e+07 7.60188585e+07 5.05230345e+07]\n",
      " [6.62356707e+07 2.74603046e+07 5.48568154e+07 4.54378530e+07\n",
      "  3.02968728e+07 5.68144383e+07 5.29967650e+07 4.46518611e+07\n",
      "  7.03595857e+07 3.08044711e+07 0.00000000e+00 4.57442254e+07\n",
      "  3.67977127e+07 6.64434260e+07 4.02189256e+07 3.88173889e+07\n",
      "  5.36981145e+07 4.87953300e+07 6.11058683e+07 6.42341552e+07]\n",
      " [2.81930362e+07 3.32145915e+07 4.49693586e+07 3.11977555e+06\n",
      "  6.80771730e+07 3.92328545e+07 4.30684915e+07 4.77480581e+07\n",
      "  4.94604096e+07 3.10021640e+07 4.57442254e+07 0.00000000e+00\n",
      "  6.74724450e+07 4.08212406e+07 3.09872269e+07 2.73446101e+07\n",
      "  8.49734643e+07 4.11441775e+07 5.84786268e+07 1.99688651e+07]\n",
      " [7.51604931e+07 3.45608132e+07 9.04877781e+07 6.55719363e+07\n",
      "  5.95769532e+07 9.10546710e+07 8.85082646e+07 3.22703187e+07\n",
      "  1.04608948e+08 3.75256065e+07 3.67977127e+07 6.74724450e+07\n",
      "  0.00000000e+00 9.92041674e+07 4.29039677e+07 7.22678302e+07\n",
      "  8.34550356e+07 4.26191309e+07 9.77638350e+07 8.73940511e+07]\n",
      " [6.37945415e+07 6.88576533e+07 1.95044672e+07 4.39381908e+07\n",
      "  7.23732635e+07 1.16451181e+07 1.96432609e+07 8.68209830e+07\n",
      "  9.45316179e+06 6.80266655e+07 6.64434260e+07 4.08212406e+07\n",
      "  9.92041674e+07 0.00000000e+00 7.07058885e+07 2.76316894e+07\n",
      "  7.78153877e+07 8.15317856e+07 3.05270331e+07 3.30515412e+07]\n",
      " [3.23027808e+07 1.30132287e+07 7.01312469e+07 2.81379044e+07\n",
      "  7.01055018e+07 6.66667832e+07 6.80309311e+07 1.68498823e+07\n",
      "  7.86142936e+07 9.42682176e+06 4.02189256e+07 3.09872269e+07\n",
      "  4.29039677e+07 7.07058885e+07 0.00000000e+00 4.98718214e+07\n",
      "  9.23512896e+07 1.14551718e+07 8.19625447e+07 4.89494578e+07]\n",
      " [5.55140146e+07 4.45855158e+07 2.03324400e+07 2.98086543e+07\n",
      "  4.89409927e+07 1.88250801e+07 1.82190317e+07 6.42096844e+07\n",
      "  3.23424563e+07 4.47196759e+07 3.88173889e+07 2.73446101e+07\n",
      "  7.22678302e+07 2.76316894e+07 4.98718214e+07 0.00000000e+00\n",
      "  6.09042185e+07 6.13145577e+07 3.23844054e+07 3.54234549e+07]\n",
      " [1.11851276e+08 8.03830958e+07 5.83634221e+07 8.64163532e+07\n",
      "  2.41849477e+07 6.64455831e+07 5.81980179e+07 9.83466901e+07\n",
      "  7.47908330e+07 8.32670711e+07 5.36981145e+07 8.49734643e+07\n",
      "  8.34550356e+07 7.78153877e+07 9.23512896e+07 6.09042185e+07\n",
      "  0.00000000e+00 1.01992973e+08 5.13728677e+07 9.63275571e+07]\n",
      " [3.52108046e+07 2.16136037e+07 8.15542988e+07 3.81291820e+07\n",
      "  7.90720797e+07 7.79282417e+07 7.94570305e+07 1.08125792e+07\n",
      "  8.96536932e+07 1.90020061e+07 4.87953300e+07 4.11441775e+07\n",
      "  4.26191309e+07 8.15317856e+07 1.14551718e+07 6.13145577e+07\n",
      "  1.01992973e+08 0.00000000e+00 9.34163649e+07 5.76265752e+07]\n",
      " [8.59187216e+07 7.52757497e+07 1.39365662e+07 6.12747865e+07\n",
      "  5.36429545e+07 2.20719696e+07 1.55794813e+07 9.54283334e+07\n",
      "  2.46529871e+07 7.60188585e+07 6.11058683e+07 5.84786268e+07\n",
      "  9.77638350e+07 3.05270331e+07 8.19625447e+07 3.23844054e+07\n",
      "  5.13728677e+07 9.34163649e+07 0.00000000e+00 5.94115864e+07]\n",
      " [3.18865350e+07 5.29930270e+07 4.56123410e+07 2.18710548e+07\n",
      "  8.28529179e+07 3.74249845e+07 4.43092015e+07 6.57407374e+07\n",
      "  4.24977805e+07 5.05230345e+07 6.42341552e+07 1.99688651e+07\n",
      "  8.73940511e+07 3.30515412e+07 4.89494578e+07 3.54234549e+07\n",
      "  9.63275571e+07 5.76265752e+07 5.94115864e+07 0.00000000e+00]]\n"
     ]
    }
   ],
   "source": [
    "distance_matrix = calculate_distance_matrix(meter_list_20)\n",
    "#print(distance_matrix)"
   ]
  },
  {
   "cell_type": "markdown",
   "id": "110b452f",
   "metadata": {},
   "source": []
  },
  {
   "cell_type": "code",
   "execution_count": 27,
   "id": "283e87ac",
   "metadata": {},
   "outputs": [],
   "source": [
    "def calculate_transportation_cost(meter_list, consumption_forecast):\n",
    "    # Calculate the distance matrix\n",
    "    distance_matrix = calculate_distance_matrix(meter_list)\n"
   ]
  },
  {
   "cell_type": "markdown",
   "id": "61838477",
   "metadata": {},
   "source": [
    "My approach here would have been to calculate the transportation costs based on the distance matrix however i bit of more than i can porcess here. I am looking forward to your feednback on what i have managed to finalise."
   ]
  }
 ],
 "metadata": {
  "kernelspec": {
   "display_name": "Python 3 (ipykernel)",
   "language": "python",
   "name": "python3"
  },
  "language_info": {
   "codemirror_mode": {
    "name": "ipython",
    "version": 3
   },
   "file_extension": ".py",
   "mimetype": "text/x-python",
   "name": "python",
   "nbconvert_exporter": "python",
   "pygments_lexer": "ipython3",
   "version": "3.10.5"
  }
 },
 "nbformat": 4,
 "nbformat_minor": 5
}
