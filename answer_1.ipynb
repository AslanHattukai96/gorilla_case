{
 "cells": [
  {
   "cell_type": "markdown",
   "id": "8368be05",
   "metadata": {},
   "source": [
    "<font face=\"Calibri (Body)\" color=\"blue\" size=\"5\">Gorilla Data Engineer Assessment</font>\n",
    "<font face=\"Calibri (Body)\" color=\"black\" size=\"3\">Answer 1</font>"
   ]
  },
  {
   "cell_type": "markdown",
   "id": "dcb35c0e",
   "metadata": {},
   "source": [
    "Use pandas to calculate a transportation distribution charge for four gas meters in\n",
    "the United Kingdom. Save your code in a Jupyter notebook and upload to a public\n",
    "repo on Github (or any other platform of your choice). While solving this exercise,\n",
    "focus on efficiency - i.e., use vectorised operations and avoid loops! All"
   ]
  },
  {
   "cell_type": "markdown",
   "id": "37ad4604",
   "metadata": {},
   "source": [
    "*Transportation distribution charges are levied by gas distribution companies for the use of their\n",
    "lower pressure pipelines; they cover the cost of physically transporting the gas through the\n",
    "pipeline. This rate is determined depending on a meter's exit zone (gas network region) and its\n",
    "estimated annual quantity (AQ); and it changes over time.\n",
    "The daily charge is calculated by finding the correct rate for each meter and day in the\n",
    "forecast and multiplying this rate (in p/kWh) with the day's forecast (in kWh).\n",
    "Calculate the total cost per meter by summing its daily charges for the full forecast\n",
    "period and converting to Pounds (1p = 0.01£).\n",
    "Calculate the total consumption per meter by summing its daily consumption\n",
    "forecast for the full period.\n",
    "Your result should be a DataFrame*\n"
   ]
  },
  {
   "cell_type": "markdown",
   "id": "521f6123",
   "metadata": {},
   "source": [
    "The daily charge is calculated by finding the correct rate for each meter and day in the\n",
    "forecast and multiplying this rate (in p/kWh) with the day's forecast (in kWh).\n",
    "Calculate the total cost per meter by summing its daily charges for the full forecast\n",
    "period and converting to Pounds (1p = 0.01£).\n",
    "Calculate the total consumption per meter by summing its daily consumption\n",
    "forecast for the full period."
   ]
  },
  {
   "cell_type": "code",
   "execution_count": 1,
   "id": "d503ce61",
   "metadata": {},
   "outputs": [],
   "source": [
    "#pip install packages\n",
    "from pandas.core.apply import frame_apply\n",
    "import numpy as np\n",
    "import pandas as pd"
   ]
  },
  {
   "cell_type": "code",
   "execution_count": 2,
   "id": "f8396699",
   "metadata": {},
   "outputs": [],
   "source": [
    "#generate dataframes for each table\n",
    "df_meter = pd.read_csv(\"meter_table.csv\")\n",
    "df_forecast = pd.read_csv(\"forecast_table.csv\")\n",
    "df_rate = pd.read_csv(\"rate_table.csv\")"
   ]
  },
  {
   "cell_type": "markdown",
   "id": "eeb60c7a",
   "metadata": {},
   "source": [
    "check if the dataframes are correctly generated"
   ]
  },
  {
   "cell_type": "code",
   "execution_count": 3,
   "id": "6433a4f7",
   "metadata": {
    "scrolled": true
   },
   "outputs": [
    {
     "name": "stdout",
     "output_type": "stream",
     "text": [
      "   meter_id  aq_kwh exit_zone\n",
      "0  14676236   28978       EA1\n",
      "1  34509937   78324       SO1\n",
      "2  50264822  265667       NT1\n",
      "3  88357331  484399       SE2\n"
     ]
    }
   ],
   "source": [
    "print(df_meter.head(5))"
   ]
  },
  {
   "cell_type": "code",
   "execution_count": 4,
   "id": "7d6aa17b",
   "metadata": {},
   "outputs": [
    {
     "name": "stdout",
     "output_type": "stream",
     "text": [
      "   meter_id                 date        kwh\n",
      "0  14676236  2020-06-01 00:00:00  22.070768\n",
      "1  14676236  2020-06-02 00:00:00  19.170720\n",
      "2  14676236  2020-06-03 00:00:00  23.555111\n",
      "3  14676236  2020-06-04 00:00:00  18.220712\n",
      "4  14676236  2020-06-05 00:00:00  14.196134\n"
     ]
    }
   ],
   "source": [
    "print(df_forecast.head(5))"
   ]
  },
  {
   "cell_type": "code",
   "execution_count": 5,
   "id": "caf3c1b9",
   "metadata": {},
   "outputs": [
    {
     "name": "stdout",
     "output_type": "stream",
     "text": [
      "                  date exit_zone  aq_min_kwh  aq_max_kwh  rate_p_per_kwh\n",
      "0  2020-04-01 00:00:00       EA1           0     73200.0          0.2652\n",
      "1  2020-04-01 00:00:00       EA1       73200    732000.0          0.1980\n",
      "2  2020-04-01 00:00:00       EA1      732000         NaN          0.2875\n",
      "3  2020-04-01 00:00:00       EA2           0     73200.0          0.2970\n",
      "4  2020-04-01 00:00:00       EA2       73200    732000.0          0.1524\n"
     ]
    }
   ],
   "source": [
    "print(df_rate.head(5))\n",
    "# We can see that blank cell are converted to NaN "
   ]
  },
  {
   "cell_type": "markdown",
   "id": "18b88593",
   "metadata": {},
   "source": [
    "We will first merge the df_meter with the df_forcast to have the exitzone information for each meter."
   ]
  },
  {
   "cell_type": "code",
   "execution_count": 6,
   "id": "485caf98",
   "metadata": {},
   "outputs": [],
   "source": [
    "df_forcast_meter = df_forecast.merge(df_meter, on='meter_id')"
   ]
  },
  {
   "cell_type": "code",
   "execution_count": 7,
   "id": "3333b9a7",
   "metadata": {},
   "outputs": [
    {
     "name": "stdout",
     "output_type": "stream",
     "text": [
      "   meter_id                 date        kwh  aq_kwh exit_zone\n",
      "0  14676236  2020-06-01 00:00:00  22.070768   28978       EA1\n",
      "1  14676236  2020-06-02 00:00:00  19.170720   28978       EA1\n",
      "2  14676236  2020-06-03 00:00:00  23.555111   28978       EA1\n",
      "3  14676236  2020-06-04 00:00:00  18.220712   28978       EA1\n",
      "4  14676236  2020-06-05 00:00:00  14.196134   28978       EA1\n"
     ]
    }
   ],
   "source": [
    "# Check the generated  table \n",
    "print(df_forcast_meter.head(5))"
   ]
  },
  {
   "cell_type": "markdown",
   "id": "205857a1",
   "metadata": {},
   "source": [
    "Now we want to merge the df_forcast_merged table with the df_rate table to end up with a table that contains all the information needed for calculating The daily charge. Here a problem will emerge as we have two columns with the similar name 'date'. In order to differenciate between the two colums after the merge, we will rename them now.\n",
    "We will rename the following:\n",
    "\n",
    "1.'date' -> 'rate_date' in the sheet df_rate\n",
    "\n",
    "2.'date' -> 'forcast_date' in the sheet df_forcast"
   ]
  },
  {
   "cell_type": "code",
   "execution_count": 8,
   "id": "9956bc51",
   "metadata": {
    "scrolled": true
   },
   "outputs": [
    {
     "name": "stdout",
     "output_type": "stream",
     "text": [
      "   meter_id         forcast_date        kwh  aq_kwh exit_zone\n",
      "0  14676236  2020-06-01 00:00:00  22.070768   28978       EA1\n",
      "1  14676236  2020-06-02 00:00:00  19.170720   28978       EA1\n",
      "2  14676236  2020-06-03 00:00:00  23.555111   28978       EA1\n",
      "3  14676236  2020-06-04 00:00:00  18.220712   28978       EA1\n",
      "4  14676236  2020-06-05 00:00:00  14.196134   28978       EA1\n"
     ]
    }
   ],
   "source": [
    "df_forcast_meter = df_forcast_meter.rename(columns={'date': 'forcast_date'})\n",
    "print(df_forcast_meter.head(5))"
   ]
  },
  {
   "cell_type": "code",
   "execution_count": 9,
   "id": "03f417a2",
   "metadata": {},
   "outputs": [
    {
     "name": "stdout",
     "output_type": "stream",
     "text": [
      "             rate_date exit_zone  aq_min_kwh  aq_max_kwh  rate_p_per_kwh\n",
      "0  2020-04-01 00:00:00       EA1           0     73200.0          0.2652\n",
      "1  2020-04-01 00:00:00       EA1       73200    732000.0          0.1980\n",
      "2  2020-04-01 00:00:00       EA1      732000         NaN          0.2875\n",
      "3  2020-04-01 00:00:00       EA2           0     73200.0          0.2970\n",
      "4  2020-04-01 00:00:00       EA2       73200    732000.0          0.1524\n"
     ]
    }
   ],
   "source": [
    "df_rate = df_rate.rename(columns={'date': 'rate_date'})\n",
    "print(df_rate.head(5))"
   ]
  },
  {
   "cell_type": "markdown",
   "id": "bcc64383",
   "metadata": {},
   "source": [
    "Now we need to sum up the daily kwh for each period (e.g. 2020-04-01 - 2020-10-01 = period 1, 2020-10-01 - 2021-04-01 = period 2). We will generate a new df called df_halfyear_forcast. df_halfyear_forcast will contain the following fiels(columns) meter_id, exit_zone, forcast_p(period), kwh_sumpp(sum per period)."
   ]
  },
  {
   "cell_type": "code",
   "execution_count": 10,
   "id": "3bfb8258",
   "metadata": {},
   "outputs": [
    {
     "name": "stdout",
     "output_type": "stream",
     "text": [
      "['2020-04-01 00:00:00' '2020-10-01 00:00:00' '2021-04-01 00:00:00'\n",
      " '2021-10-01 00:00:00' '2022-04-01 00:00:00' '2022-10-01 00:00:00'\n",
      " '2023-04-01 00:00:00' '2023-10-01 00:00:00' '2024-04-01 00:00:00'\n",
      " '2024-10-01 00:00:00']\n"
     ]
    }
   ],
   "source": [
    "# First we need a list of all distinct rate_dates.\n",
    "distinct_rate_dates = df_rate['rate_date'].unique()\n",
    "distinct_rate_dates_df = pd.DataFrame({'rate_date': distinct_rate_dates})\n",
    "print(distinct_rate_dates)"
   ]
  },
  {
   "cell_type": "code",
   "execution_count": 11,
   "id": "79e09a3b",
   "metadata": {
    "scrolled": true
   },
   "outputs": [
    {
     "name": "stdout",
     "output_type": "stream",
     "text": [
      "   meter_id         forcast_date        kwh  aq_kwh exit_zone  \\\n",
      "0  14676236  2020-06-01 00:00:00  22.070768   28978       EA1   \n",
      "1  14676236  2020-06-02 00:00:00  19.170720   28978       EA1   \n",
      "2  14676236  2020-06-03 00:00:00  23.555111   28978       EA1   \n",
      "3  14676236  2020-06-04 00:00:00  18.220712   28978       EA1   \n",
      "4  14676236  2020-06-05 00:00:00  14.196134   28978       EA1   \n",
      "\n",
      "                period  \n",
      "0  2020-04-01 00:00:00  \n",
      "1  2020-04-01 00:00:00  \n",
      "2  2020-04-01 00:00:00  \n",
      "3  2020-04-01 00:00:00  \n",
      "4  2020-04-01 00:00:00  \n"
     ]
    }
   ],
   "source": [
    "# Define the list of dates and corresponding periods\n",
    "periods = distinct_rate_dates\n",
    "# Function that assigns the period based on the date\n",
    "def assign_period(forcast_date):\n",
    "    for i in range(len(periods)-1): # Substract one becasue we compare the date to second last and the last\n",
    "        if periods[i] <= forcast_date < periods[i+1]: \n",
    "            return periods[i] \n",
    "    return periods[-1] # Add one becasue we want to return the name of the lower compare date \n",
    "                       # As we name te periods by thier start date\n",
    "\n",
    "# Apply the function to the date column to create a new column with period values\n",
    "df_forcast_meter['period'] = df_forcast_meter['forcast_date'].apply(assign_period)\n",
    "df_forcast_meter = pd.DataFrame(df_forcast_meter)\n",
    "\n",
    "# print the DataFrame\n",
    "print(df_forcast_meter.head(5))"
   ]
  },
  {
   "cell_type": "code",
   "execution_count": 12,
   "id": "063b2e5b",
   "metadata": {},
   "outputs": [
    {
     "name": "stdout",
     "output_type": "stream",
     "text": [
      "   meter_id         forcast_date        kwh  aq_kwh exit_zone  \\\n",
      "0  14676236  2020-06-01 00:00:00  22.070768   28978       EA1   \n",
      "1  14676236  2020-06-02 00:00:00  19.170720   28978       EA1   \n",
      "2  14676236  2020-06-03 00:00:00  23.555111   28978       EA1   \n",
      "3  14676236  2020-06-04 00:00:00  18.220712   28978       EA1   \n",
      "4  14676236  2020-06-05 00:00:00  14.196134   28978       EA1   \n",
      "\n",
      "                period  \n",
      "0  2020-04-01 00:00:00  \n",
      "1  2020-04-01 00:00:00  \n",
      "2  2020-04-01 00:00:00  \n",
      "3  2020-04-01 00:00:00  \n",
      "4  2020-04-01 00:00:00  \n"
     ]
    }
   ],
   "source": [
    "# print the DataFrame\n",
    "print(df_forcast_meter.head(5))"
   ]
  },
  {
   "cell_type": "code",
   "execution_count": 13,
   "id": "c114645d",
   "metadata": {},
   "outputs": [],
   "source": [
    "df_forcast_meter_rate = pd.merge(df_forcast_meter, df_rate, left_on=['period', 'exit_zone'], right_on=['rate_date', 'exit_zone'])"
   ]
  },
  {
   "cell_type": "code",
   "execution_count": 14,
   "id": "7d7d45ed",
   "metadata": {
    "scrolled": true
   },
   "outputs": [
    {
     "name": "stdout",
     "output_type": "stream",
     "text": [
      "<class 'pandas.core.frame.DataFrame'>\n",
      "Int64Index: 10236 entries, 0 to 10235\n",
      "Data columns (total 10 columns):\n",
      " #   Column          Non-Null Count  Dtype  \n",
      "---  ------          --------------  -----  \n",
      " 0   meter_id        10236 non-null  int64  \n",
      " 1   forcast_date    10236 non-null  object \n",
      " 2   kwh             10236 non-null  float64\n",
      " 3   aq_kwh          10236 non-null  int64  \n",
      " 4   exit_zone       10236 non-null  object \n",
      " 5   period          10236 non-null  object \n",
      " 6   rate_date       10236 non-null  object \n",
      " 7   aq_min_kwh      10236 non-null  int64  \n",
      " 8   aq_max_kwh      6824 non-null   float64\n",
      " 9   rate_p_per_kwh  10236 non-null  float64\n",
      "dtypes: float64(3), int64(3), object(4)\n",
      "memory usage: 879.7+ KB\n",
      "None\n"
     ]
    }
   ],
   "source": [
    "# We look at the specifics of this tabel\n",
    "print(df_forcast_meter_rate.info())"
   ]
  },
  {
   "cell_type": "code",
   "execution_count": 15,
   "id": "b4f9a94d",
   "metadata": {},
   "outputs": [
    {
     "name": "stdout",
     "output_type": "stream",
     "text": [
      "   meter_id         forcast_date        kwh  aq_kwh exit_zone  \\\n",
      "0  14676236  2020-06-01 00:00:00  22.070768   28978       EA1   \n",
      "1  14676236  2020-06-01 00:00:00  22.070768   28978       EA1   \n",
      "2  14676236  2020-06-01 00:00:00  22.070768   28978       EA1   \n",
      "3  14676236  2020-06-02 00:00:00  19.170720   28978       EA1   \n",
      "4  14676236  2020-06-02 00:00:00  19.170720   28978       EA1   \n",
      "\n",
      "                period            rate_date  aq_min_kwh  aq_max_kwh  \\\n",
      "0  2020-04-01 00:00:00  2020-04-01 00:00:00           0     73200.0   \n",
      "1  2020-04-01 00:00:00  2020-04-01 00:00:00       73200    732000.0   \n",
      "2  2020-04-01 00:00:00  2020-04-01 00:00:00      732000         NaN   \n",
      "3  2020-04-01 00:00:00  2020-04-01 00:00:00           0     73200.0   \n",
      "4  2020-04-01 00:00:00  2020-04-01 00:00:00       73200    732000.0   \n",
      "\n",
      "   rate_p_per_kwh  \n",
      "0          0.2652  \n",
      "1          0.1980  \n",
      "2          0.2875  \n",
      "3          0.2652  \n",
      "4          0.1980  \n"
     ]
    }
   ],
   "source": [
    "print(df_forcast_meter_rate.head(5))"
   ]
  },
  {
   "cell_type": "markdown",
   "id": "abad3412",
   "metadata": {},
   "source": [
    "In order to remove the rows that give the wrong combination of 'aq_kwh' and 'aq_min_kwh',  'aq_max_kwh'  range we create a filter that only keeps the rows for which the 'aq_kwh' fals between the  'aq_min_kwh' and  'aq_max_kwh'."
   ]
  },
  {
   "cell_type": "code",
   "execution_count": 16,
   "id": "40a4577a",
   "metadata": {},
   "outputs": [
    {
     "name": "stdout",
     "output_type": "stream",
     "text": [
      "    meter_id         forcast_date        kwh  aq_kwh exit_zone  \\\n",
      "0   14676236  2020-06-01 00:00:00  22.070768   28978       EA1   \n",
      "3   14676236  2020-06-02 00:00:00  19.170720   28978       EA1   \n",
      "6   14676236  2020-06-03 00:00:00  23.555111   28978       EA1   \n",
      "9   14676236  2020-06-04 00:00:00  18.220712   28978       EA1   \n",
      "12  14676236  2020-06-05 00:00:00  14.196134   28978       EA1   \n",
      "\n",
      "                 period            rate_date  aq_min_kwh  aq_max_kwh  \\\n",
      "0   2020-04-01 00:00:00  2020-04-01 00:00:00           0     73200.0   \n",
      "3   2020-04-01 00:00:00  2020-04-01 00:00:00           0     73200.0   \n",
      "6   2020-04-01 00:00:00  2020-04-01 00:00:00           0     73200.0   \n",
      "9   2020-04-01 00:00:00  2020-04-01 00:00:00           0     73200.0   \n",
      "12  2020-04-01 00:00:00  2020-04-01 00:00:00           0     73200.0   \n",
      "\n",
      "    rate_p_per_kwh  \n",
      "0           0.2652  \n",
      "3           0.2652  \n",
      "6           0.2652  \n",
      "9           0.2652  \n",
      "12          0.2652  \n"
     ]
    }
   ],
   "source": [
    "filtered = (df_forcast_meter_rate['aq_kwh'] >= df_forcast_meter_rate['aq_min_kwh']) & (df_forcast_meter_rate['aq_kwh'] <= df_forcast_meter_rate['aq_max_kwh'])\n",
    "\n",
    "# Here we apply the filter to the df\n",
    "df_forcast_meter_rate = df_forcast_meter_rate[filtered] \n",
    "\n",
    "# Print the filtered DataFrame\n",
    "print(df_forcast_meter_rate.head(5))"
   ]
  },
  {
   "cell_type": "code",
   "execution_count": 17,
   "id": "fa5b633e",
   "metadata": {},
   "outputs": [
    {
     "name": "stdout",
     "output_type": "stream",
     "text": [
      "<class 'pandas.core.frame.DataFrame'>\n",
      "Int64Index: 3412 entries, 0 to 10234\n",
      "Data columns (total 10 columns):\n",
      " #   Column          Non-Null Count  Dtype  \n",
      "---  ------          --------------  -----  \n",
      " 0   meter_id        3412 non-null   int64  \n",
      " 1   forcast_date    3412 non-null   object \n",
      " 2   kwh             3412 non-null   float64\n",
      " 3   aq_kwh          3412 non-null   int64  \n",
      " 4   exit_zone       3412 non-null   object \n",
      " 5   period          3412 non-null   object \n",
      " 6   rate_date       3412 non-null   object \n",
      " 7   aq_min_kwh      3412 non-null   int64  \n",
      " 8   aq_max_kwh      3412 non-null   float64\n",
      " 9   rate_p_per_kwh  3412 non-null   float64\n",
      "dtypes: float64(3), int64(3), object(4)\n",
      "memory usage: 293.2+ KB\n",
      "None\n"
     ]
    }
   ],
   "source": [
    "# Now we have a look at the table info to see if we have correctly reduced the amount of rows.\n",
    "# In the previouse version we had 10236 rows. As the aq can only fall in to one of three categories after the filter.\n",
    "# The amount of rows now should be 10236/3 which is 3412.\n",
    "print(df_forcast_meter_rate.info())"
   ]
  },
  {
   "cell_type": "markdown",
   "id": "b4204403",
   "metadata": {},
   "source": [
    "We see that we have reduced the amount of rows in the table by filtering out the rows for which we do not need the rates."
   ]
  },
  {
   "cell_type": "markdown",
   "id": "cb6640e7",
   "metadata": {},
   "source": [
    "In the next step we will multiply the kwh  with the rate_p_per_kwh and then devide by hundred to achieve the cost per day per meter in pounds."
   ]
  },
  {
   "cell_type": "code",
   "execution_count": 18,
   "id": "0d2a5903",
   "metadata": {},
   "outputs": [],
   "source": [
    "# Calculate the values total cost per meter per day and convert to pound \n",
    "df_forcast_meter_rate['cost_day_meter_pound']= (df_forcast_meter_rate['kwh']*df_forcast_meter_rate['rate_p_per_kwh'])/100"
   ]
  },
  {
   "cell_type": "code",
   "execution_count": 19,
   "id": "bee12b91",
   "metadata": {},
   "outputs": [
    {
     "name": "stdout",
     "output_type": "stream",
     "text": [
      "<class 'pandas.core.frame.DataFrame'>\n",
      "Int64Index: 3412 entries, 0 to 10234\n",
      "Data columns (total 11 columns):\n",
      " #   Column                Non-Null Count  Dtype  \n",
      "---  ------                --------------  -----  \n",
      " 0   meter_id              3412 non-null   int64  \n",
      " 1   forcast_date          3412 non-null   object \n",
      " 2   kwh                   3412 non-null   float64\n",
      " 3   aq_kwh                3412 non-null   int64  \n",
      " 4   exit_zone             3412 non-null   object \n",
      " 5   period                3412 non-null   object \n",
      " 6   rate_date             3412 non-null   object \n",
      " 7   aq_min_kwh            3412 non-null   int64  \n",
      " 8   aq_max_kwh            3412 non-null   float64\n",
      " 9   rate_p_per_kwh        3412 non-null   float64\n",
      " 10  cost_day_meter_pound  3412 non-null   float64\n",
      "dtypes: float64(4), int64(3), object(4)\n",
      "memory usage: 319.9+ KB\n",
      "None\n"
     ]
    }
   ],
   "source": [
    "print(df_forcast_meter_rate.info())"
   ]
  },
  {
   "cell_type": "markdown",
   "id": "cea73218",
   "metadata": {},
   "source": [
    "Now we sum the cost_day_meter_pound per 'exit_zone'  per 'period'            "
   ]
  },
  {
   "cell_type": "code",
   "execution_count": 20,
   "id": "e46bceeb",
   "metadata": {},
   "outputs": [],
   "source": [
    "df_sum_period = df_forcast_meter_rate.groupby(['meter_id', 'period', ]).agg({'kwh':'sum', 'cost_day_meter_pound':'sum'})"
   ]
  },
  {
   "cell_type": "code",
   "execution_count": 21,
   "id": "78f9ed09",
   "metadata": {},
   "outputs": [
    {
     "name": "stdout",
     "output_type": "stream",
     "text": [
      "                                        kwh  cost_day_meter_pound\n",
      "meter_id period                                                  \n",
      "14676236 2020-04-01 00:00:00    1769.354787              4.692329\n",
      "         2020-10-01 00:00:00    8565.582872             25.439781\n",
      "         2021-04-01 00:00:00    4717.664057             15.695668\n",
      "         2021-10-01 00:00:00    8512.419037             31.717273\n",
      "         2022-04-01 00:00:00    5375.856768             22.433450\n",
      "         2022-10-01 00:00:00      37.122479              0.173510\n",
      "34509937 2020-04-01 00:00:00    8217.361143             22.540222\n",
      "         2020-10-01 00:00:00   24558.935300             75.445049\n",
      "         2021-04-01 00:00:00    9900.663302             34.068182\n",
      "         2021-10-01 00:00:00   22644.929723             87.273559\n",
      "         2022-04-01 00:00:00   12915.243639             55.742192\n",
      "         2022-10-01 00:00:00      86.866895              0.419915\n",
      "50264822 2020-04-01 00:00:00   31661.043470             69.052736\n",
      "         2020-10-01 00:00:00   86324.519069            210.890800\n",
      "         2021-04-01 00:00:00   39885.529666            109.126809\n",
      "         2021-10-01 00:00:00   75861.535236            232.439744\n",
      "         2022-04-01 00:00:00   31606.179580            108.472408\n",
      "         2022-10-01 00:00:00     328.192979              1.261574\n",
      "88357331 2020-04-01 00:00:00   48867.291510            113.274382\n",
      "         2020-10-01 00:00:00  157919.379166            409.958708\n",
      "         2021-04-01 00:00:00   65358.775472            190.063319\n",
      "         2021-10-01 00:00:00  139555.547507            454.532418\n",
      "         2022-04-01 00:00:00   72237.470842            263.450056\n",
      "         2022-10-01 00:00:00     460.535505              1.881288\n"
     ]
    }
   ],
   "source": [
    "print(df_sum_period.head(30))\n",
    "# This table shows the totalconsumption and total cost per meter per period"
   ]
  },
  {
   "cell_type": "code",
   "execution_count": 22,
   "id": "d0a90ca7",
   "metadata": {},
   "outputs": [],
   "source": [
    "# We should rename the column names kwh to total_kwh_pp and the cost_day_meter_pound to total_cost_pp\n",
    "df_sum_period = df_sum_period.rename(columns={'kwh': 'total_kwh_pp', 'cost_day_meter_pound': 'total_cost_pp'})"
   ]
  },
  {
   "cell_type": "markdown",
   "id": "bada5205",
   "metadata": {},
   "source": [
    "Now in order to calculate the total cost per meter and the total consumption per meter we perform another sumantion this time grouping by meter_id."
   ]
  },
  {
   "cell_type": "code",
   "execution_count": 23,
   "id": "86773b52",
   "metadata": {},
   "outputs": [],
   "source": [
    "df_sum = df_sum_period .groupby(['meter_id' ]).agg({'total_kwh_pp':'sum', 'total_cost_pp':'sum'})"
   ]
  },
  {
   "cell_type": "markdown",
   "id": "a9e13ebb",
   "metadata": {},
   "source": [
    "Now we need to resemble the result table given in the task pdf for the first question we need to rename the 'total_kwh_pp' and 'total_cost_pp' to 'total_kwh' and 'total_cost'."
   ]
  },
  {
   "cell_type": "code",
   "execution_count": 24,
   "id": "7f0fe4fc",
   "metadata": {},
   "outputs": [],
   "source": [
    "df_sum = df_sum_period .groupby(['meter_id' ]).agg({'total_kwh_pp':'sum', 'total_cost_pp':'sum'})"
   ]
  },
  {
   "cell_type": "code",
   "execution_count": 25,
   "id": "5ff4a6b0",
   "metadata": {},
   "outputs": [],
   "source": [
    "df_sum = df_sum.rename(columns={ 'total_kwh_pp': 'Total_Estimated_Consumption_(kWh)', 'total_cost_pp': 'Total_Cost_(£)'})"
   ]
  },
  {
   "cell_type": "code",
   "execution_count": 26,
   "id": "499ed0ea",
   "metadata": {},
   "outputs": [
    {
     "name": "stdout",
     "output_type": "stream",
     "text": [
      "          Total_Estimated_Consumption_(kWh)  Total_Cost_(£)\n",
      "meter_id                                                   \n",
      "14676236                       28978.000000      100.152012\n",
      "34509937                       78324.000001      275.489119\n",
      "50264822                      265667.000001      731.244071\n",
      "88357331                      484399.000002     1433.160171\n"
     ]
    }
   ],
   "source": [
    "# The printed table shows the final answer \n",
    "print(df_sum.head(10))"
   ]
  }
 ],
 "metadata": {
  "kernelspec": {
   "display_name": "Python 3 (ipykernel)",
   "language": "python",
   "name": "python3"
  },
  "language_info": {
   "codemirror_mode": {
    "name": "ipython",
    "version": 3
   },
   "file_extension": ".py",
   "mimetype": "text/x-python",
   "name": "python",
   "nbconvert_exporter": "python",
   "pygments_lexer": "ipython3",
   "version": "3.10.5"
  }
 },
 "nbformat": 4,
 "nbformat_minor": 5
}
